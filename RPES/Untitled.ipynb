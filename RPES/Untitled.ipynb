{
 "cells": [
  {
   "cell_type": "code",
   "execution_count": 14,
   "id": "73bfd61d-cf89-461b-989d-954c0061fed8",
   "metadata": {},
   "outputs": [],
   "source": [
    "import matplotlib.pyplot as plot\n",
    "import numpy as np\n",
    "import scipy.optimize as optimize"
   ]
  },
  {
   "cell_type": "code",
   "execution_count": 15,
   "id": "712426fa-af2c-4cb9-b067-ea3c5be066af",
   "metadata": {},
   "outputs": [],
   "source": [
    "obj = lambda alpha: np.power( 2 * np.exp( -5 * alpha ) - ( 1 + np.exp( -11 * alpha ) ), 2 )"
   ]
  },
  {
   "cell_type": "code",
   "execution_count": 21,
   "id": "760980b5-57e1-49be-931e-4e416ce0ecb5",
   "metadata": {},
   "outputs": [],
   "source": [
    "res = optimize.minimize( obj, 0.033 )"
   ]
  },
  {
   "cell_type": "code",
   "execution_count": 20,
   "id": "d26c1ab6-afcf-41c7-b93d-ca6095296fbb",
   "metadata": {},
   "outputs": [
    {
     "data": {
      "text/plain": [
       "[<matplotlib.lines.Line2D at 0x26e5814ded0>]"
      ]
     },
     "execution_count": 20,
     "metadata": {},
     "output_type": "execute_result"
    },
    {
     "data": {
      "image/png": "[encoded data removed]",
      "text/plain": [
       "<Figure size 432x288 with 1 Axes>"
      ]
     },
     "metadata": {
      "needs_background": "light"
     },
     "output_type": "display_data"
    }
   ],
   "source": [
    "xs = np.arange( 0, 0.05, step = 0.001 )\n",
    "plot.plot( xs, -2 * np.exp( -5 * xs ) )\n",
    "plot.plot( xs, -1 - np.exp( -11 * xs ) )"
   ]
  },
  {
   "cell_type": "code",
   "execution_count": 29,
   "id": "a4e316d4-0349-4e67-833a-d31716adf478",
   "metadata": {},
   "outputs": [
    {
     "data": {
      "text/plain": [
       "1020.8529657739875"
      ]
     },
     "execution_count": 29,
     "metadata": {},
     "output_type": "execute_result"
    }
   ],
   "source": [
    "np.log( -( -np.exp( -res.x[0] * 1000 ) - np.exp( -res.x[0] * 2100 ) ) / 2 ) / -res.x[0]"
   ]
  },
  {
   "cell_type": "code",
   "execution_count": 73,
   "id": "00e12c30-f6f8-4843-a3e8-5749025d338a",
   "metadata": {},
   "outputs": [],
   "source": [
    "obj = lambda alpha: np.abs( 1 - ( 2 * np.exp( -5 * alpha ) - np.exp( -6 * alpha ) ) )\n",
    "res = optimize.minimize( obj, 2 )"
   ]
  },
  {
   "cell_type": "code",
   "execution_count": 74,
   "id": "69a75cc0-24a9-4bb0-b391-8f1f14e2f957",
   "metadata": {},
   "outputs": [
    {
     "data": {
      "text/plain": [
       "      fun: array([0.99931125])\n",
       " hess_inv: array([[-144.94686357]])\n",
       "      jac: array([0.00336406])\n",
       "  message: 'Desired error not necessarily achieved due to precision loss.'\n",
       "     nfev: 118\n",
       "      nit: 1\n",
       "     njev: 53\n",
       "   status: 2\n",
       "  success: False\n",
       "        x: array([1.57285309])"
      ]
     },
     "execution_count": 74,
     "metadata": {},
     "output_type": "execute_result"
    }
   ],
   "source": [
    "res"
   ]
  },
  {
   "cell_type": "code",
   "execution_count": 77,
   "id": "ed6570c7-b2ab-4627-9376-b4104945f8ba",
   "metadata": {},
   "outputs": [
    {
     "data": {
      "text/plain": [
       "[<matplotlib.lines.Line2D at 0x26e595c6680>]"
      ]
     },
     "execution_count": 77,
     "metadata": {},
     "output_type": "execute_result"
    },
    {
     "data": {
      "image/png": "[encoded data removed]",
      "text/plain": [
       "<Figure size 432x288 with 1 Axes>"
      ]
     },
     "metadata": {
      "needs_background": "light"
     },
     "output_type": "display_data"
    }
   ],
   "source": [
    "xs = np.arange( -10, 10, step = 0.1 )\n",
    "#LAV = lambda xs: ( xs <= 0 ) * ( np.exp( 2 * res.x[0] * xs ) - 1 ) + ( xs >= 0 ) * ( -np.exp( -res.x[0] * xs ) + 1 )\n",
    "LAV = lambda xs: ( xs <= 0 ) * ( 2 * ( np.exp( res.x[0] * xs ) - 1 ) ) + ( xs >= 0 ) * ( -np.exp( -res.x[0] * xs ) + 1 )\n",
    "plot.plot( xs, LAV( xs ) )"
   ]
  },
  {
   "cell_type": "code",
   "execution_count": null,
   "id": "9da10f88-440d-45c1-84ce-3f958c6c6ab2",
   "metadata": {},
   "outputs": [],
   "source": []
  }
 ],
 "metadata": {
  "kernelspec": {
   "display_name": "Python 3 (ipykernel)",
   "language": "python",
   "name": "python3"
  },
  "language_info": {
   "codemirror_mode": {
    "name": "ipython",
    "version": 3
   },
   "file_extension": ".py",
   "mimetype": "text/x-python",
   "name": "python",
   "nbconvert_exporter": "python",
   "pygments_lexer": "ipython3",
   "version": "3.11.4"
  }
 },
 "nbformat": 4,
 "nbformat_minor": 5
}
