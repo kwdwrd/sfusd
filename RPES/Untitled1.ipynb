{
 "cells": [
  {
   "cell_type": "code",
   "execution_count": 6,
   "id": "6de8fab3-1925-4cf4-b50d-0adf8d9000bd",
   "metadata": {},
   "outputs": [],
   "source": [
    "import os\n",
    "import pandas as pd\n",
    "import re\n",
    "\n",
    "\n",
    "\n",
    "directory = 'C:\\\\Users\\\\kylew\\\\scripts\\\\sfusd\\\\sbac\\\\data'"
   ]
  },
  {
   "cell_type": "code",
   "execution_count": 48,
   "id": "0e79054c-a736-4e75-9ca4-6e9fe9863717",
   "metadata": {},
   "outputs": [],
   "source": [
    "files = dict()\n",
    "\n",
    "for filename in os.listdir( directory ):\n",
    "    matches = re.search( r'ca(\\d{4})(entities|_)', filename )\n",
    "    if not matches:\n",
    "        continue\n",
    "        \n",
    "    year = int( matches.group( 1 ) )\n",
    "\n",
    "    if year not in files:\n",
    "        files[year] = dict()\n",
    "\n",
    "    key = 'entities' if matches.group( 2 ) == 'entities' else 'data'\n",
    "    files[year][key] = filename\n",
    "\n",
    "\n",
    "\n",
    "for year in files:\n",
    "    files[year]['sep'] = '^' if year > 2019 else ','"
   ]
  },
  {
   "cell_type": "code",
   "execution_count": 61,
   "id": "f4005d72-9458-40a9-9e8f-4ae6fe581547",
   "metadata": {},
   "outputs": [],
   "source": [
    "data = dict()\n",
    "groups = pd.read_csv( f\"{directory}/StudentGroups.txt\", encoding_errors = 'ignore', sep = '^' )\n",
    "\n",
    "for year in files:\n",
    "    maps       = files[year]\n",
    "    data[year] = dict()\n",
    "\n",
    "    for key in maps:\n",
    "        if key == 'sep':\n",
    "            continue\n",
    "            \n",
    "        data[year][key] = pd.read_csv( f\"{directory}/{maps[key]}\", encoding_errors = 'ignore', sep = maps['sep'] )\n",
    "\n",
    "    _data = data[year]['data']\n",
    "    _data = _data[_data['School Code'] == 0]\n",
    "\n",
    "    group_column = [ column for column in _data if re.search( '[Gg]roup ID', column ) ][0]\n",
    "\n",
    "    _data = _data.merge( groups, left_on = group_column, right_on = 'Demographic ID' )\n",
    "    _data = _data[_data['Student Group'] == 'Race and Ethnicity']\n",
    "    _data = _data[_data['Grade'] == 3]\n",
    "    data[year]['data'] = _data"
   ]
  },
  {
   "cell_type": "code",
   "execution_count": 64,
   "id": "eac72f76-0db8-4b67-9bad-383265651dd3",
   "metadata": {},
   "outputs": [
    {
     "data": {
      "text/html": [
       "<div>\n",
       "<style scoped>\n",
       "    .dataframe tbody tr th:only-of-type {\n",
       "        vertical-align: middle;\n",
       "    }\n",
       "\n",
       "    .dataframe tbody tr th {\n",
       "        vertical-align: top;\n",
       "    }\n",
       "\n",
       "    .dataframe thead th {\n",
       "        text-align: right;\n",
       "    }\n",
       "</style>\n",
       "<table border=\"1\" class=\"dataframe\">\n",
       "  <thead>\n",
       "    <tr style=\"text-align: right;\">\n",
       "      <th></th>\n",
       "      <th>Test Type</th>\n",
       "      <th>Test ID</th>\n",
       "    </tr>\n",
       "  </thead>\n",
       "  <tbody>\n",
       "    <tr>\n",
       "      <th>192</th>\n",
       "      <td>B</td>\n",
       "      <td>1</td>\n",
       "    </tr>\n",
       "    <tr>\n",
       "      <th>200</th>\n",
       "      <td>B</td>\n",
       "      <td>2</td>\n",
       "    </tr>\n",
       "  </tbody>\n",
       "</table>\n",
       "</div>"
      ],
      "text/plain": [
       "    Test Type  Test ID\n",
       "192         B        1\n",
       "200         B        2"
      ]
     },
     "execution_count": 64,
     "metadata": {},
     "output_type": "execute_result"
    }
   ],
   "source": [
    "data[2022]['data'][['Test Type', 'Test ID']].drop_duplicates()"
   ]
  },
  {
   "cell_type": "code",
   "execution_count": 45,
   "id": "e9594eae-aa71-4fa0-9a4a-074d25a5082d",
   "metadata": {},
   "outputs": [
    {
     "data": {
      "text/plain": [
       "2019"
      ]
     },
     "execution_count": 45,
     "metadata": {},
     "output_type": "execute_result"
    }
   ],
   "source": [
    "year"
   ]
  },
  {
   "cell_type": "code",
   "execution_count": null,
   "id": "ab1ac8ea-df6e-478e-92ef-1e635ec3d9d4",
   "metadata": {},
   "outputs": [],
   "source": []
  }
 ],
 "metadata": {
  "kernelspec": {
   "display_name": "Python 3 (ipykernel)",
   "language": "python",
   "name": "python3"
  },
  "language_info": {
   "codemirror_mode": {
    "name": "ipython",
    "version": 3
   },
   "file_extension": ".py",
   "mimetype": "text/x-python",
   "name": "python",
   "nbconvert_exporter": "python",
   "pygments_lexer": "ipython3",
   "version": "3.11.4"
  }
 },
 "nbformat": 4,
 "nbformat_minor": 5
}
